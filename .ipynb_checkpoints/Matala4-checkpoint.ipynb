{
 "cells": [
  {
   "cell_type": "markdown",
   "metadata": {},
   "source": [
    "# MATALA 4"
   ]
  },
  {
   "cell_type": "markdown",
   "metadata": {},
   "source": [
    "## Importing requests and json packages and create variables\n",
    "### Enter you api key"
   ]
  },
  {
   "cell_type": "code",
   "execution_count": 166,
   "metadata": {},
   "outputs": [],
   "source": [
    "import requests\n",
    "import json\n",
    "index=-1\n",
    "response = list()\n",
    "response2 = list()\n",
    "dic = dict() \n",
    "dis= dict()\n",
    "keyAPI= \"put API key here\""
   ]
  },
  {
   "cell_type": "markdown",
   "metadata": {},
   "source": [
    "##  Reading file and define the origin city"
   ]
  },
  {
   "cell_type": "code",
   "execution_count": 167,
   "metadata": {},
   "outputs": [],
   "source": [
    "file = open(r'C:\\Users\\MyPC\\Desktop\\matalot\\dests.txt' ,'r', encoding = ('utf-8'))\n",
    "origin = 'תל אביב'\n"
   ]
  },
  {
   "cell_type": "markdown",
   "metadata": {},
   "source": [
    "## Lop that string the url and filling up 2 list with the json txt and 2 dictionary: 1 for quesion a and the second for question b (which cities are farrest from Tel Aviv city)"
   ]
  },
  {
   "cell_type": "code",
   "execution_count": 168,
   "metadata": {},
   "outputs": [],
   "source": [
    "for city in file:\n",
    "    index = index + 1\n",
    "    url = \"https://maps.googleapis.com/maps/api/distancematrix/json?origins=%s&destinations=%s&key=%s\" % (origin,city,keyAPI)\n",
    "    try:\n",
    "        response.append(requests.get(url))\n",
    "        if not response[index].status_code == 200:\n",
    "            print(\"HTTP error\",response[index].status_code)\n",
    "        else:\n",
    "            try:\n",
    "                response[index]=response[index].json()\n",
    "                try:\n",
    "                    url = \"https://maps.googleapis.com/maps/api/geocode/json?address=%s&key=%s\" % (city,keyAPI)\n",
    "                    response2.append(requests.get(url).json())\n",
    "                    dic[city]=((response[index]['rows'][0]['elements'][0]['distance']['text']),\n",
    "                                (response[index]['rows'][0]['elements'][0]['duration']['text']),\n",
    "                                (response2[index]['results'][0]['geometry']['location']['lng']),\n",
    "                                (response2[index]['results'][0]['geometry']['location']['lat']))\n",
    "                    dis[city]=(response[index]['rows'][0]['elements'][0]['distance']['value'])\n",
    "                except:\n",
    "                    print(\"something went wrong with city:\", city)\n",
    "            except:\n",
    "                print(\"Response not in valid JSON format\")\n",
    "    except:\n",
    "        print(\"Something went wrong with requests.get for distance\")\n",
    "        response.pop(index)\n",
    "        index=index-1\n"
   ]
  },
  {
   "cell_type": "markdown",
   "metadata": {},
   "source": [
    "## Printing the dictionary to the screen"
   ]
  },
  {
   "cell_type": "code",
   "execution_count": 169,
   "metadata": {},
   "outputs": [
    {
     "name": "stdout",
     "output_type": "stream",
     "text": [
      "איסטנבול\n",
      "1,815 km\n",
      "20 hours 31 mins\n",
      "28.9783589\n",
      "41.0082376\n",
      "אמסטרדם\n",
      "4,528 km\n",
      "1 day 23 hours\n",
      "4.9041389\n",
      "52.3675734\n",
      "ולטה\n",
      "3,795 km\n",
      "2 days 3 hours\n",
      "14.5145528\n",
      "35.8989085\n",
      "בזל\n",
      "4,092 km\n",
      "1 day 20 hours\n",
      "7.5885761\n",
      "47.5595986\n",
      "קוטור\n",
      "3,015 km\n",
      "1 day 12 hours\n",
      "18.771234\n",
      "42.424662\n"
     ]
    }
   ],
   "source": [
    "for item in dic:\n",
    "    print(item.rstrip(), end=\"\\n\")\n",
    "    for i in dic[item]:\n",
    "        print(i)"
   ]
  },
  {
   "cell_type": "markdown",
   "metadata": {},
   "source": [
    "# Sorting and Printing the 3 farrest cities from Tel Aviv"
   ]
  },
  {
   "cell_type": "code",
   "execution_count": 170,
   "metadata": {},
   "outputs": [
    {
     "name": "stdout",
     "output_type": "stream",
     "text": [
      "The 1 city is אמסטרדם\n",
      "\n",
      "The 2 city is בזל\n",
      "\n",
      "The 3 city is ולטה\n",
      "\n"
     ]
    }
   ],
   "source": [
    "dis1=list()\n",
    "for item in dis:\n",
    "    dis1.append(dis[item])\n",
    "dis1=sorted(dis1)\n",
    "index=0\n",
    "for i in range(len(dis1)-1,-1,-1):\n",
    "    if index<3:\n",
    "        for key in dis:\n",
    "            if dis[key]==dis1[i]:\n",
    "                print(\"The\",len(dis1)-i,\"city is\",key)\n",
    "                index=index+1\n",
    "                "
   ]
  },
  {
   "cell_type": "code",
   "execution_count": null,
   "metadata": {},
   "outputs": [],
   "source": []
  }
 ],
 "metadata": {
  "kernelspec": {
   "display_name": "Python 3",
   "language": "python",
   "name": "python3"
  },
  "language_info": {
   "codemirror_mode": {
    "name": "ipython",
    "version": 3
   },
   "file_extension": ".py",
   "mimetype": "text/x-python",
   "name": "python",
   "nbconvert_exporter": "python",
   "pygments_lexer": "ipython3",
   "version": "3.8.3"
  }
 },
 "nbformat": 4,
 "nbformat_minor": 4
}

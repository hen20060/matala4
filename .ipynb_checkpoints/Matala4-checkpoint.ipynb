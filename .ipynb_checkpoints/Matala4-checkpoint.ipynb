{
 "cells": [
  {
   "cell_type": "markdown",
   "metadata": {},
   "source": [
    "# MATALA 4"
   ]
  },
  {
   "cell_type": "markdown",
   "metadata": {},
   "source": [
    "## Importing requests and json packages and create variables\n",
    "### Enter you api key"
   ]
  },
  {
   "cell_type": "code",
   "execution_count": 5,
   "metadata": {},
   "outputs": [],
   "source": [
    "import requests\n",
    "import json\n",
    "index=0\n",
    "response = list()\n",
    "response2 = list()\n",
    "dic = dict()\n",
    "dis= dict()\n",
    "keyAPI= \"Enter your Key!\""
   ]
  },
  {
   "cell_type": "markdown",
   "metadata": {},
   "source": [
    "##  Reading file and define the origin city"
   ]
  },
  {
   "cell_type": "code",
   "execution_count": 6,
   "metadata": {},
   "outputs": [],
   "source": [
    "file = open(r'C:\\Users\\MyPC\\Desktop\\matalot\\dests.txt' ,'r', encoding = ('utf-8'))\n",
    "origin = 'תל אביב'"
   ]
  },
  {
   "cell_type": "markdown",
   "metadata": {},
   "source": [
    "## Lop that string the url and filling up 2 list with the json txt and 2 dictionary: 1 for quesion a and the second for question b (which cities are farrest from Tel Aviv city)"
   ]
  },
  {
   "cell_type": "code",
   "execution_count": 7,
   "metadata": {},
   "outputs": [],
   "source": [
    "for city in file:\n",
    "    url = \"https://maps.googleapis.com/maps/api/distancematrix/json?origins=%s&destinations=%s&key=%s\" % (origin,city,keyAPI)\n",
    "    response.append(requests.get(url).json())\n",
    "    url = \"https://maps.googleapis.com/maps/api/geocode/json?address=%s&key=%s\" % (city,keyAPI)\n",
    "    response2.append(requests.get(url).json())\n",
    "    dic[city]={'distanse':(response[index]['rows'][0]['elements'][0]['distance']['text']),\n",
    "              'duration':(response[index]['rows'][0]['elements'][0]['duration']['text']),\n",
    "              'longitude':(response2[index]['results'][0]['geometry']['location']['lng']),\n",
    "              'latitude':(response2[index]['results'][0]['geometry']['location']['lat'])}\n",
    "    dis[city]=(response[index]['rows'][0]['elements'][0]['distance']['value'])\n",
    "    index = index + 1"
   ]
  },
  {
   "cell_type": "markdown",
   "metadata": {},
   "source": [
    "## Printing the dictionary to the screen"
   ]
  },
  {
   "cell_type": "code",
   "execution_count": 8,
   "metadata": {},
   "outputs": [
    {
     "name": "stdout",
     "output_type": "stream",
     "text": [
      "איסטנבול\n",
      "{'distanse': '1,815 km', 'duration': '20 hours 28 mins', 'longitude': 28.9783589, 'latitude': 41.0082376}\n",
      "אמסטרדם\n",
      "{'distanse': '4,533 km', 'duration': '1 day 23 hours', 'longitude': 4.9041389, 'latitude': 52.3675734}\n",
      "ולטה\n",
      "{'distanse': '3,789 km', 'duration': '2 days 3 hours', 'longitude': 14.5145528, 'latitude': 35.8989085}\n",
      "בזל\n",
      "{'distanse': '4,092 km', 'duration': '1 day 20 hours', 'longitude': 7.5885761, 'latitude': 47.5595986}\n",
      "קוטור\n",
      "{'distanse': '3,009 km', 'duration': '1 day 12 hours', 'longitude': 18.771234, 'latitude': 42.424662}\n"
     ]
    }
   ],
   "source": [
    "for item in dic:\n",
    "    print(item.rstrip(), end=\"\\n\")\n",
    "    print(dic[item])"
   ]
  },
  {
   "cell_type": "markdown",
   "metadata": {},
   "source": [
    "# Sorting and Printing the 3 farrest cities from Tel Aviv"
   ]
  },
  {
   "cell_type": "code",
   "execution_count": 10,
   "metadata": {},
   "outputs": [
    {
     "name": "stdout",
     "output_type": "stream",
     "text": [
      "The 1 city is אמסטרדם\n",
      "\n",
      "The 2 city is בזל\n",
      "\n",
      "The 3 city is ולטה\n",
      "\n"
     ]
    }
   ],
   "source": [
    "dis1=list()\n",
    "for item in dis:\n",
    "    dis1.append(dis[item])\n",
    "dis1=sorted(dis1)\n",
    "index=0\n",
    "for i in range(4,1,-1):\n",
    "    for key in dis:\n",
    "        if dis[key]==dis1[i]:\n",
    "            print(\"The\",5-i,\"city is\",key)"
   ]
  }
 ],
 "metadata": {
  "kernelspec": {
   "display_name": "Python 3",
   "language": "python",
   "name": "python3"
  },
  "language_info": {
   "codemirror_mode": {
    "name": "ipython",
    "version": 3
   },
   "file_extension": ".py",
   "mimetype": "text/x-python",
   "name": "python",
   "nbconvert_exporter": "python",
   "pygments_lexer": "ipython3",
   "version": "3.8.3"
  }
 },
 "nbformat": 4,
 "nbformat_minor": 4
}
